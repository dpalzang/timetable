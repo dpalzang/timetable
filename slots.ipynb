inp="""S1:Monday-1.45- 2.45,Tuesday 8.45-9.45,Wednesday-10.45 - 11.45,Saturday 8.45-9.30
S2:Wednesday-8.45 – 9.45,Thursday10.45 - 11.45,Friday-1.45- 2.45, Saturday-9.30-10.15
S3:Wednesday-1.45- 2.45,Thursday-8.45 – 9.45,Friday-9.45 - 10.45,Saturday-10.15-11.00
S4:Tuesday-10.45 - 11.45,Thursday-1.45- 2.45,Friday-8.45 – 9.45,Saturday-11.00-11.45
S5:Monday-11.45 - 12.45,Tuesday-9.45 -10.45,Thursday-2.45- 3.45,Saturday-11.45-12.30
S6:Monday-8.45-9.45,Tuesday-11.45-12.45,Wednesday-9.45 – 10.45,Saturday-3.00-3.45
S7:Wednesday-11.45-12.45,Thursday-9.45 -10.45,Friday-10.45-11.45,Saturday-4.45-5.30
S8:Monday-9.45 -10.45,Wednesday-2.45-3.45,Thursday-11.45-12.45,Saturday-1.30-2.15
S9:Monday-10.45-11.45,Tuesday1.45-2.45,Friday-11.45-12.45,Saturday2.15-3.00
F1:11.45 AM - 1.35 PM (Tuesday) 11.45 AM -12.35 PM (Thursday)
SM1:Tuesday-4.45-5.45
V1:2.45pm to 3.35pm"""

# split based on newlines
inp=inp.splitlines()

# create slot timimg key value pairs
slots={}
for i in inp:
    # slit between slot and timing
    slot=i.split(':')
    slots[slot[0]]=slot[1]

print(slots)

