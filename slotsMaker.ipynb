{
 "metadata": {
  "language_info": {
   "codemirror_mode": {
    "name": "ipython",
    "version": 3
   },
   "file_extension": ".py",
   "mimetype": "text/x-python",
   "name": "python",
   "nbconvert_exporter": "python",
   "pygments_lexer": "ipython3",
   "version": "3.7.4-final"
  },
  "orig_nbformat": 2,
  "kernelspec": {
   "name": "python3",
   "display_name": "Python 3.7.4 32-bit",
   "metadata": {
    "interpreter": {
     "hash": "378b5933d7440af72b272972b00016984f867e5c35dd4f56f11ce3af81f7077f"
    }
   }
  }
 },
 "nbformat": 4,
 "nbformat_minor": 2,
 "cells": [
  {
   "cell_type": "code",
   "execution_count": 90,
   "metadata": {},
   "outputs": [
    {
     "output_type": "stream",
     "name": "stdout",
     "text": [
      "['S1:Monday-1.45- 2.45,Tuesday 8.45-9.45,Wednesday-10.45 - 11.45,Saturday 8.45-9.30', 'S2:Wednesday-8.45 – 9.45,Thursday10.45 - 11.45,Friday-1.45- 2.45, Saturday-9.30-10.15', 'S3:Wednesday-1.45- 2.45,Thursday-8.45 – 9.45,Friday-9.45 - 10.45,Saturday-10.15-11.00', 'S4:Tuesday-10.45 - 11.45,Thursday-1.45- 2.45,Friday-8.45 – 9.45,Saturday-11.00-11.45', 'S5:Monday-11.45 - 12.45,Tuesday-9.45 -10.45,Thursday-2.45- 3.45,Saturday-11.45-12.30', 'S6:Monday-8.45-9.45,Tuesday-11.45-12.45,Wednesday-9.45 – 10.45,Saturday-3.00-3.45', 'S7:Wednesday-11.45-12.45,Thursday-9.45 -10.45,Friday-10.45-11.45,Saturday-4.45-5.30', 'S8:Monday-9.45 -10.45,Wednesday-2.45-3.45,Thursday-11.45-12.45,Saturday-1.30-2.15', 'S9:Monday-10.45-11.45,Tuesday1.45-2.45,Friday-11.45-12.45,Saturday2.15-3.00', 'F1:11.45  - 1.45  (Tuesday), 11.45  -12.45  (Thursday)', 'F2:3.45 - 5.45  (Monday), 4.45-5.45  (Tuesday)', 'SM1:Tuesday-4.45-5.45', 'V1:Wednesday 2.45 to 3.45', 'L1:Monday-8.45-10.45', 'L4:Thursday 8.45-10.45', 'L7:Thursday 10.45-12.45']\n"
     ]
    }
   ],
   "source": [
    "inp=\"\"\"S1:Monday-1.45- 2.45,Tuesday 8.45-9.45,Wednesday-10.45 - 11.45,Saturday 8.45-9.30\n",
    "S2:Wednesday-8.45 – 9.45,Thursday10.45 - 11.45,Friday-1.45- 2.45, Saturday-9.30-10.15\n",
    "S3:Wednesday-1.45- 2.45,Thursday-8.45 – 9.45,Friday-9.45 - 10.45,Saturday-10.15-11.00\n",
    "S4:Tuesday-10.45 - 11.45,Thursday-1.45- 2.45,Friday-8.45 – 9.45,Saturday-11.00-11.45\n",
    "S5:Monday-11.45 - 12.45,Tuesday-9.45 -10.45,Thursday-2.45- 3.45,Saturday-11.45-12.30\n",
    "S6:Monday-8.45-9.45,Tuesday-11.45-12.45,Wednesday-9.45 – 10.45,Saturday-3.00-3.45\n",
    "S7:Wednesday-11.45-12.45,Thursday-9.45 -10.45,Friday-10.45-11.45,Saturday-4.45-5.30\n",
    "S8:Monday-9.45 -10.45,Wednesday-2.45-3.45,Thursday-11.45-12.45,Saturday-1.30-2.15\n",
    "S9:Monday-10.45-11.45,Tuesday1.45-2.45,Friday-11.45-12.45,Saturday2.15-3.00\n",
    "F1:11.45  - 1.45  (Tuesday), 11.45  -12.45  (Thursday)\n",
    "F2:3.45 - 5.45  (Monday), 4.45-5.45  (Tuesday)\n",
    "SM1:Tuesday-4.45-5.45\n",
    "SM2:Thursday-4.45-5.45\n",
    "V1:Wednesday 2.45 to 3.45\n",
    "L1:Monday-8.45-10.45\n",
    "L4:Thursday 8.45-10.45\n",
    "L7:Thursday 10.45-12.45\n",
    "\"\"\"\n",
    "\n",
    "# split based on newlines\n",
    "inp=inp.splitlines()\n",
    "print(inp)\n"
   ]
  },
  {
   "cell_type": "code",
   "execution_count": 91,
   "metadata": {},
   "outputs": [
    {
     "output_type": "stream",
     "name": "stdout",
     "text": [
      "('S1', 'Monday-1.45- 2.45,Tuesday 8.45-9.45,Wednesday-10.45 - 11.45,Saturday 8.45-9.30')\n('S2', 'Wednesday-8.45 – 9.45,Thursday10.45 - 11.45,Friday-1.45- 2.45, Saturday-9.30-10.15')\n('S3', 'Wednesday-1.45- 2.45,Thursday-8.45 – 9.45,Friday-9.45 - 10.45,Saturday-10.15-11.00')\n('S4', 'Tuesday-10.45 - 11.45,Thursday-1.45- 2.45,Friday-8.45 – 9.45,Saturday-11.00-11.45')\n('S5', 'Monday-11.45 - 12.45,Tuesday-9.45 -10.45,Thursday-2.45- 3.45,Saturday-11.45-12.30')\n('S6', 'Monday-8.45-9.45,Tuesday-11.45-12.45,Wednesday-9.45 – 10.45,Saturday-3.00-3.45')\n('S7', 'Wednesday-11.45-12.45,Thursday-9.45 -10.45,Friday-10.45-11.45,Saturday-4.45-5.30')\n('S8', 'Monday-9.45 -10.45,Wednesday-2.45-3.45,Thursday-11.45-12.45,Saturday-1.30-2.15')\n('S9', 'Monday-10.45-11.45,Tuesday1.45-2.45,Friday-11.45-12.45,Saturday2.15-3.00')\n('F1', '11.45  - 1.45  (Tuesday), 11.45  -12.45  (Thursday)')\n('F2', '3.45 - 5.45  (Monday), 4.45-5.45  (Tuesday)')\n('SM1', 'Tuesday-4.45-5.45')\n('V1', 'Wednesday 2.45 to 3.45')\n('L1', 'Monday-8.45-10.45')\n('L4', 'Thursday 8.45-10.45')\n('L7', 'Thursday 10.45-12.45')\n"
     ]
    }
   ],
   "source": [
    "# create slot timimg key value pairs\n",
    "slots={}\n",
    "for i in inp:\n",
    "    # slit between slot and timing\n",
    "    slot=i.split(':')\n",
    "    slots[slot[0]]=slot[1]\n",
    "\n",
    "print(*slots.items(), sep='\\n')\n"
   ]
  },
  {
   "cell_type": "code",
   "execution_count": 92,
   "metadata": {},
   "outputs": [
    {
     "output_type": "stream",
     "name": "stdout",
     "text": [
      "{'S1': ['Monday-1.45- 2.45', 'Tuesday 8.45-9.45', 'Wednesday-10.45 - 11.45', 'Saturday 8.45-9.30'], 'S2': ['Wednesday-8.45 – 9.45', 'Thursday10.45 - 11.45', 'Friday-1.45- 2.45', ' Saturday-9.30-10.15'], 'S3': ['Wednesday-1.45- 2.45', 'Thursday-8.45 – 9.45', 'Friday-9.45 - 10.45', 'Saturday-10.15-11.00'], 'S4': ['Tuesday-10.45 - 11.45', 'Thursday-1.45- 2.45', 'Friday-8.45 – 9.45', 'Saturday-11.00-11.45'], 'S5': ['Monday-11.45 - 12.45', 'Tuesday-9.45 -10.45', 'Thursday-2.45- 3.45', 'Saturday-11.45-12.30'], 'S6': ['Monday-8.45-9.45', 'Tuesday-11.45-12.45', 'Wednesday-9.45 – 10.45', 'Saturday-3.00-3.45'], 'S7': ['Wednesday-11.45-12.45', 'Thursday-9.45 -10.45', 'Friday-10.45-11.45', 'Saturday-4.45-5.30'], 'S8': ['Monday-9.45 -10.45', 'Wednesday-2.45-3.45', 'Thursday-11.45-12.45', 'Saturday-1.30-2.15'], 'S9': ['Monday-10.45-11.45', 'Tuesday1.45-2.45', 'Friday-11.45-12.45', 'Saturday2.15-3.00'], 'F1': ['11.45  - 1.45  (Tuesday)', ' 11.45  -12.45  (Thursday)'], 'F2': ['3.45 - 5.45  (Monday)', ' 4.45-5.45  (Tuesday)'], 'SM1': ['Tuesday-4.45-5.45'], 'V1': ['Wednesday 2.45 to 3.45'], 'L1': ['Monday-8.45-10.45'], 'L4': ['Thursday 8.45-10.45'], 'L7': ['Thursday 10.45-12.45']}\n"
     ]
    }
   ],
   "source": [
    "# splitting timings based days\n",
    "for x in slots:\n",
    "    slots[x]=slots[x].split(',')\n",
    "\n",
    "print(slots)"
   ]
  },
  {
   "source": [
    "# create time slot object\n",
    "import re\n",
    "str = re.compile(r'[a-z,A-Z]+')\n",
    "tme = re.compile(r'\\d+.\\d+')\n",
    "for x in slots:\n",
    "    timeSlots=[]\n",
    "    for y in slots[x]:\n",
    "        # print(str.search(y).group())\n",
    "        # print(tme.findall(y))\n",
    "        # print(y)\n",
    "        timeSlot={}\n",
    "        timeSlot['day']=str.search(y).group()\n",
    "        start=int(tme.findall(y)[0].split('.')[0])+int(tme.findall(y)[0].split('.')[1])/60\n",
    "        # convert to 24hr\n",
    "        if start<7:\n",
    "            start+=12\n",
    "        print(start)\n",
    "        end=int(tme.findall(y)[1].split('.')[0])+int(tme.findall(y)[1].split('.')[1])/60\n",
    "        # convert to 24hr\n",
    "        if end<7:\n",
    "            end+=12\n",
    "        print(end)\n",
    "        timeSlot['start']=start\n",
    "        timeSlot['end']=end\n",
    "        timeSlots.append(timeSlot)\n",
    "    slots[x]=timeSlots\n",
    "\n",
    "\n",
    "    \n",
    "\n"
   ],
   "cell_type": "code",
   "metadata": {},
   "execution_count": 93,
   "outputs": [
    {
     "output_type": "stream",
     "name": "stdout",
     "text": [
      "13.75\n14.75\n8.75\n9.75\n10.75\n11.75\n8.75\n9.5\n8.75\n9.75\n10.75\n11.75\n13.75\n14.75\n9.5\n10.25\n13.75\n14.75\n8.75\n9.75\n9.75\n10.75\n10.25\n11.0\n10.75\n11.75\n13.75\n14.75\n8.75\n9.75\n11.0\n11.75\n11.75\n12.75\n9.75\n10.75\n14.75\n15.75\n11.75\n12.5\n8.75\n9.75\n11.75\n12.75\n9.75\n10.75\n15.0\n15.75\n11.75\n12.75\n9.75\n10.75\n10.75\n11.75\n16.75\n17.5\n9.75\n10.75\n14.75\n15.75\n11.75\n12.75\n13.5\n14.25\n10.75\n11.75\n13.75\n14.75\n11.75\n12.75\n14.25\n15.0\n11.75\n13.75\n11.75\n12.75\n15.75\n17.75\n16.75\n17.75\n16.75\n17.75\n14.75\n15.75\n8.75\n10.75\n8.75\n10.75\n10.75\n12.75\n"
     ]
    }
   ]
  },
  {
   "cell_type": "code",
   "execution_count": 94,
   "metadata": {},
   "outputs": [
    {
     "output_type": "stream",
     "name": "stdout",
     "text": [
      "('S1', [{'day': 'Monday', 'start': 13.75, 'end': 14.75}, {'day': 'Tuesday', 'start': 8.75, 'end': 9.75}, {'day': 'Wednesday', 'start': 10.75, 'end': 11.75}, {'day': 'Saturday', 'start': 8.75, 'end': 9.5}])\n('S2', [{'day': 'Wednesday', 'start': 8.75, 'end': 9.75}, {'day': 'Thursday', 'start': 10.75, 'end': 11.75}, {'day': 'Friday', 'start': 13.75, 'end': 14.75}, {'day': 'Saturday', 'start': 9.5, 'end': 10.25}])\n('S3', [{'day': 'Wednesday', 'start': 13.75, 'end': 14.75}, {'day': 'Thursday', 'start': 8.75, 'end': 9.75}, {'day': 'Friday', 'start': 9.75, 'end': 10.75}, {'day': 'Saturday', 'start': 10.25, 'end': 11.0}])\n('S4', [{'day': 'Tuesday', 'start': 10.75, 'end': 11.75}, {'day': 'Thursday', 'start': 13.75, 'end': 14.75}, {'day': 'Friday', 'start': 8.75, 'end': 9.75}, {'day': 'Saturday', 'start': 11.0, 'end': 11.75}])\n('S5', [{'day': 'Monday', 'start': 11.75, 'end': 12.75}, {'day': 'Tuesday', 'start': 9.75, 'end': 10.75}, {'day': 'Thursday', 'start': 14.75, 'end': 15.75}, {'day': 'Saturday', 'start': 11.75, 'end': 12.5}])\n('S6', [{'day': 'Monday', 'start': 8.75, 'end': 9.75}, {'day': 'Tuesday', 'start': 11.75, 'end': 12.75}, {'day': 'Wednesday', 'start': 9.75, 'end': 10.75}, {'day': 'Saturday', 'start': 15.0, 'end': 15.75}])\n('S7', [{'day': 'Wednesday', 'start': 11.75, 'end': 12.75}, {'day': 'Thursday', 'start': 9.75, 'end': 10.75}, {'day': 'Friday', 'start': 10.75, 'end': 11.75}, {'day': 'Saturday', 'start': 16.75, 'end': 17.5}])\n('S8', [{'day': 'Monday', 'start': 9.75, 'end': 10.75}, {'day': 'Wednesday', 'start': 14.75, 'end': 15.75}, {'day': 'Thursday', 'start': 11.75, 'end': 12.75}, {'day': 'Saturday', 'start': 13.5, 'end': 14.25}])\n('S9', [{'day': 'Monday', 'start': 10.75, 'end': 11.75}, {'day': 'Tuesday', 'start': 13.75, 'end': 14.75}, {'day': 'Friday', 'start': 11.75, 'end': 12.75}, {'day': 'Saturday', 'start': 14.25, 'end': 15.0}])\n('F1', [{'day': 'Tuesday', 'start': 11.75, 'end': 13.75}, {'day': 'Thursday', 'start': 11.75, 'end': 12.75}])\n('F2', [{'day': 'Monday', 'start': 15.75, 'end': 17.75}, {'day': 'Tuesday', 'start': 16.75, 'end': 17.75}])\n('SM1', [{'day': 'Tuesday', 'start': 16.75, 'end': 17.75}])\n('V1', [{'day': 'Wednesday', 'start': 14.75, 'end': 15.75}])\n('L1', [{'day': 'Monday', 'start': 8.75, 'end': 10.75}])\n('L4', [{'day': 'Thursday', 'start': 8.75, 'end': 10.75}])\n('L7', [{'day': 'Thursday', 'start': 10.75, 'end': 12.75}])\n"
     ]
    }
   ],
   "source": [
    "print(*slots.items(), sep='\\n')"
   ]
  },
  {
   "cell_type": "code",
   "execution_count": 95,
   "metadata": {},
   "outputs": [
    {
     "output_type": "stream",
     "name": "stdout",
     "text": [
      "{\"S1\": [{\"day\": \"Monday\", \"start\": 13.75, \"end\": 14.75}, {\"day\": \"Tuesday\", \"start\": 8.75, \"end\": 9.75}, {\"day\": \"Wednesday\", \"start\": 10.75, \"end\": 11.75}, {\"day\": \"Saturday\", \"start\": 8.75, \"end\": 9.5}], \"S2\": [{\"day\": \"Wednesday\", \"start\": 8.75, \"end\": 9.75}, {\"day\": \"Thursday\", \"start\": 10.75, \"end\": 11.75}, {\"day\": \"Friday\", \"start\": 13.75, \"end\": 14.75}, {\"day\": \"Saturday\", \"start\": 9.5, \"end\": 10.25}], \"S3\": [{\"day\": \"Wednesday\", \"start\": 13.75, \"end\": 14.75}, {\"day\": \"Thursday\", \"start\": 8.75, \"end\": 9.75}, {\"day\": \"Friday\", \"start\": 9.75, \"end\": 10.75}, {\"day\": \"Saturday\", \"start\": 10.25, \"end\": 11.0}], \"S4\": [{\"day\": \"Tuesday\", \"start\": 10.75, \"end\": 11.75}, {\"day\": \"Thursday\", \"start\": 13.75, \"end\": 14.75}, {\"day\": \"Friday\", \"start\": 8.75, \"end\": 9.75}, {\"day\": \"Saturday\", \"start\": 11.0, \"end\": 11.75}], \"S5\": [{\"day\": \"Monday\", \"start\": 11.75, \"end\": 12.75}, {\"day\": \"Tuesday\", \"start\": 9.75, \"end\": 10.75}, {\"day\": \"Thursday\", \"start\": 14.75, \"end\": 15.75}, {\"day\": \"Saturday\", \"start\": 11.75, \"end\": 12.5}], \"S6\": [{\"day\": \"Monday\", \"start\": 8.75, \"end\": 9.75}, {\"day\": \"Tuesday\", \"start\": 11.75, \"end\": 12.75}, {\"day\": \"Wednesday\", \"start\": 9.75, \"end\": 10.75}, {\"day\": \"Saturday\", \"start\": 15.0, \"end\": 15.75}], \"S7\": [{\"day\": \"Wednesday\", \"start\": 11.75, \"end\": 12.75}, {\"day\": \"Thursday\", \"start\": 9.75, \"end\": 10.75}, {\"day\": \"Friday\", \"start\": 10.75, \"end\": 11.75}, {\"day\": \"Saturday\", \"start\": 16.75, \"end\": 17.5}], \"S8\": [{\"day\": \"Monday\", \"start\": 9.75, \"end\": 10.75}, {\"day\": \"Wednesday\", \"start\": 14.75, \"end\": 15.75}, {\"day\": \"Thursday\", \"start\": 11.75, \"end\": 12.75}, {\"day\": \"Saturday\", \"start\": 13.5, \"end\": 14.25}], \"S9\": [{\"day\": \"Monday\", \"start\": 10.75, \"end\": 11.75}, {\"day\": \"Tuesday\", \"start\": 13.75, \"end\": 14.75}, {\"day\": \"Friday\", \"start\": 11.75, \"end\": 12.75}, {\"day\": \"Saturday\", \"start\": 14.25, \"end\": 15.0}], \"F1\": [{\"day\": \"Tuesday\", \"start\": 11.75, \"end\": 13.75}, {\"day\": \"Thursday\", \"start\": 11.75, \"end\": 12.75}], \"F2\": [{\"day\": \"Monday\", \"start\": 15.75, \"end\": 17.75}, {\"day\": \"Tuesday\", \"start\": 16.75, \"end\": 17.75}], \"SM1\": [{\"day\": \"Tuesday\", \"start\": 16.75, \"end\": 17.75}], \"V1\": [{\"day\": \"Wednesday\", \"start\": 14.75, \"end\": 15.75}], \"L1\": [{\"day\": \"Monday\", \"start\": 8.75, \"end\": 10.75}], \"L4\": [{\"day\": \"Thursday\", \"start\": 8.75, \"end\": 10.75}], \"L7\": [{\"day\": \"Thursday\", \"start\": 10.75, \"end\": 12.75}]}\n"
     ]
    }
   ],
   "source": [
    "# converting to json object\n",
    "import json\n",
    "\n",
    "# a Python object (dict):\n",
    "x = {\n",
    "  \"name\": \"John\",\n",
    "  \"age\": 30,\n",
    "  \"city\": \"New York\"\n",
    "}\n",
    "\n",
    "# convert into JSON:\n",
    "y = json.dumps(slots)\n",
    "\n",
    "# the result is a JSON string:\n",
    "print(y)"
   ]
  },
  {
   "cell_type": "code",
   "execution_count": 96,
   "metadata": {},
   "outputs": [],
   "source": [
    "# writing the json sile\n",
    "with open('slots.json', 'w') as json_file:\n",
    "  json.dump(slots, json_file,indent=4)\n"
   ]
  },
  {
   "cell_type": "code",
   "execution_count": 97,
   "metadata": {},
   "outputs": [],
   "source": [
    "import json\n",
    "\n",
    "person_dict = {\"name\": \"Bob\",\n",
    "\"languages\": [\"English\", \"Fench\"],\n",
    "\"married\": True,\n",
    "\"age\": 32\n",
    "}\n",
    "\n",
    "with open('person.txt', 'w') as json_file:\n",
    "  json.dump(person_dict, json_file)"
   ]
  },
  {
   "cell_type": "code",
   "execution_count": null,
   "metadata": {},
   "outputs": [],
   "source": []
  }
 ]
}