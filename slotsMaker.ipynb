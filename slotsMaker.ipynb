{
 "metadata": {
  "language_info": {
   "codemirror_mode": {
    "name": "ipython",
    "version": 3
   },
   "file_extension": ".py",
   "mimetype": "text/x-python",
   "name": "python",
   "nbconvert_exporter": "python",
   "pygments_lexer": "ipython3",
   "version": "3.7.4-final"
  },
  "orig_nbformat": 2,
  "kernelspec": {
   "name": "python3",
   "display_name": "Python 3.7.4 32-bit",
   "metadata": {
    "interpreter": {
     "hash": "378b5933d7440af72b272972b00016984f867e5c35dd4f56f11ce3af81f7077f"
    }
   }
  }
 },
 "nbformat": 4,
 "nbformat_minor": 2,
 "cells": [
  {
   "cell_type": "code",
   "execution_count": 117,
   "metadata": {},
   "outputs": [
    {
     "output_type": "stream",
     "name": "stdout",
     "text": [
      "['S1:Monday-1.45- 2.45,Tuesday 8.45-9.45,Wednesday-10.45 - 11.45,Saturday 8.45-9.30', 'S2:Wednesday-8.45 – 9.45,Thursday10.45 - 11.45,Friday-1.45- 2.45, Saturday-9.30-10.15', 'S3:Wednesday-1.45- 2.45,Thursday-8.45 – 9.45,Friday-9.45 - 10.45,Saturday-10.15-11.00', 'S4:Tuesday-10.45 - 11.45,Thursday-1.45- 2.45,Friday-8.45 – 9.45,Saturday-11.00-11.45', 'S5:Monday-11.45 - 12.45,Tuesday-9.45 -10.45,Thursday-2.45- 3.45,Saturday-11.45-12.30', 'S6:Monday-8.45-9.45,Tuesday-11.45-12.45,Wednesday-9.45 – 10.45,Saturday-3.00-3.45', 'S7:Wednesday-11.45-12.45,Thursday-9.45 -10.45,Friday-10.45-11.45,Saturday-4.45-5.30', 'S8:Monday-9.45 -10.45,Wednesday-2.45-3.45,Thursday-11.45-12.45,Saturday-1.30-2.15', 'S9:Monday-10.45-11.45,Tuesday1.45-2.45,Friday-11.45-12.45,Saturday2.15-3.00', 'F1:11.45  - 1.45  (Tuesday), 11.45  -12.45  (Thursday)', 'F2:3.45 - 5.45  (Monday), 4.45-5.45  (Tuesday)', 'SM1:Tuesday-4.45-5.45', 'SM2:Thursday-4.45-5.45', 'V1:Wednesday 2.45 - 3.45', 'L1:Monday 8.45-10.45', 'L2:Tuesday 8.45-10.45', 'L3:Wednesday 8.45-10.45', 'L4:Thursday 8.45-10.45', 'L5:Tuesday 10.45-12.45', 'L6:Monday 10.45-12.45', 'L7:Thursday 10.45-12.45', 'L8:Wednesday 10.45-12.45', 'L9:Monday 1.45-3.45', 'L10:Friday 10.45-12.45', 'L11:Wednesday 1.45-3.45', 'L12:Thursday 1.45-3.45', 'L14:Friday 8.45-10.45', '']\n"
     ]
    }
   ],
   "source": [
    "inp=\"\"\"S1:Monday-1.45- 2.45,Tuesday 8.45-9.45,Wednesday-10.45 - 11.45,Saturday 8.45-9.30\n",
    "S2:Wednesday-8.45 – 9.45,Thursday10.45 - 11.45,Friday-1.45- 2.45, Saturday-9.30-10.15\n",
    "S3:Wednesday-1.45- 2.45,Thursday-8.45 – 9.45,Friday-9.45 - 10.45,Saturday-10.15-11.00\n",
    "S4:Tuesday-10.45 - 11.45,Thursday-1.45- 2.45,Friday-8.45 – 9.45,Saturday-11.00-11.45\n",
    "S5:Monday-11.45 - 12.45,Tuesday-9.45 -10.45,Thursday-2.45- 3.45,Saturday-11.45-12.30\n",
    "S6:Monday-8.45-9.45,Tuesday-11.45-12.45,Wednesday-9.45 – 10.45,Saturday-3.00-3.45\n",
    "S7:Wednesday-11.45-12.45,Thursday-9.45 -10.45,Friday-10.45-11.45,Saturday-4.45-5.30\n",
    "S8:Monday-9.45 -10.45,Wednesday-2.45-3.45,Thursday-11.45-12.45,Saturday-1.30-2.15\n",
    "S9:Monday-10.45-11.45,Tuesday1.45-2.45,Friday-11.45-12.45,Saturday2.15-3.00\n",
    "F1:11.45  - 1.45  (Tuesday), 11.45  -12.45  (Thursday)\n",
    "F2:3.45 - 5.45  (Monday), 4.45-5.45  (Tuesday)\n",
    "SM1:Tuesday-4.45-5.45\n",
    "SM2:Thursday-4.45-5.45\n",
    "V1:Wednesday 2.45 - 3.45\n",
    "L1:Monday 8.45-10.45\n",
    "L2:Tuesday 8.45-10.45\n",
    "L3:Wednesday 8.45-10.45\n",
    "L4:Thursday 8.45-10.45\n",
    "L5:Tuesday 10.45-12.45\n",
    "L6:Monday 10.45-12.45\n",
    "L7:Thursday 10.45-12.45\n",
    "L8:Wednesday 10.45-12.45\n",
    "L9:Monday 1.45-3.45\n",
    "L10:Friday 10.45-12.45\n",
    "L11:Wednesday 1.45-3.45\n",
    "L12:Thursday 1.45-3.45\n",
    "L14:Friday 8.45-10.45\n",
    "\"\"\"\n",
    "\n",
    "# split based on newlines\n",
    "inp=inp.splitlines()\n",
    "print(inp)\n"
   ]
  },
  {
   "cell_type": "code",
   "execution_count": 118,
   "metadata": {},
   "outputs": [
    {
     "output_type": "stream",
     "name": "stdout",
     "text": [
      "['S1', 'Monday-1.45- 2.45,Tuesday 8.45-9.45,Wednesday-10.45 - 11.45,Saturday 8.45-9.30']\n['S2', 'Wednesday-8.45 – 9.45,Thursday10.45 - 11.45,Friday-1.45- 2.45, Saturday-9.30-10.15']\n['S3', 'Wednesday-1.45- 2.45,Thursday-8.45 – 9.45,Friday-9.45 - 10.45,Saturday-10.15-11.00']\n['S4', 'Tuesday-10.45 - 11.45,Thursday-1.45- 2.45,Friday-8.45 – 9.45,Saturday-11.00-11.45']\n['S5', 'Monday-11.45 - 12.45,Tuesday-9.45 -10.45,Thursday-2.45- 3.45,Saturday-11.45-12.30']\n['S6', 'Monday-8.45-9.45,Tuesday-11.45-12.45,Wednesday-9.45 – 10.45,Saturday-3.00-3.45']\n['S7', 'Wednesday-11.45-12.45,Thursday-9.45 -10.45,Friday-10.45-11.45,Saturday-4.45-5.30']\n['S8', 'Monday-9.45 -10.45,Wednesday-2.45-3.45,Thursday-11.45-12.45,Saturday-1.30-2.15']\n['S9', 'Monday-10.45-11.45,Tuesday1.45-2.45,Friday-11.45-12.45,Saturday2.15-3.00']\n['F1', '11.45  - 1.45  (Tuesday), 11.45  -12.45  (Thursday)']\n['F2', '3.45 - 5.45  (Monday), 4.45-5.45  (Tuesday)']\n['SM1', 'Tuesday-4.45-5.45']\n['SM2', 'Thursday-4.45-5.45']\n['V1', 'Wednesday 2.45 - 3.45']\n['L1', 'Monday 8.45-10.45']\n['L2', 'Tuesday 8.45-10.45']\n['L3', 'Wednesday 8.45-10.45']\n['L4', 'Thursday 8.45-10.45']\n['L5', 'Tuesday 10.45-12.45']\n['L6', 'Monday 10.45-12.45']\n['L7', 'Thursday 10.45-12.45']\n['L8', 'Wednesday 10.45-12.45']\n['L9', 'Monday 1.45-3.45']\n['L10', 'Friday 10.45-12.45']\n['L11', 'Wednesday 1.45-3.45']\n['L12', 'Thursday 1.45-3.45']\n['L14', 'Friday 8.45-10.45']\n['']\n"
     ]
    },
    {
     "output_type": "error",
     "ename": "IndexError",
     "evalue": "list index out of range",
     "traceback": [
      "\u001b[1;31m---------------------------------------------------------------------------\u001b[0m",
      "\u001b[1;31mIndexError\u001b[0m                                Traceback (most recent call last)",
      "\u001b[1;32m<ipython-input-118-774f5c05c406>\u001b[0m in \u001b[0;36m<module>\u001b[1;34m\u001b[0m\n\u001b[0;32m      5\u001b[0m     \u001b[0mslot\u001b[0m\u001b[1;33m=\u001b[0m\u001b[0mi\u001b[0m\u001b[1;33m.\u001b[0m\u001b[0msplit\u001b[0m\u001b[1;33m(\u001b[0m\u001b[1;34m':'\u001b[0m\u001b[1;33m)\u001b[0m\u001b[1;33m\u001b[0m\u001b[1;33m\u001b[0m\u001b[0m\n\u001b[0;32m      6\u001b[0m     \u001b[0mprint\u001b[0m\u001b[1;33m(\u001b[0m\u001b[0mslot\u001b[0m\u001b[1;33m)\u001b[0m\u001b[1;33m\u001b[0m\u001b[1;33m\u001b[0m\u001b[0m\n\u001b[1;32m----> 7\u001b[1;33m     \u001b[0mslots\u001b[0m\u001b[1;33m[\u001b[0m\u001b[0mslot\u001b[0m\u001b[1;33m[\u001b[0m\u001b[1;36m0\u001b[0m\u001b[1;33m]\u001b[0m\u001b[1;33m]\u001b[0m\u001b[1;33m=\u001b[0m\u001b[0mslot\u001b[0m\u001b[1;33m[\u001b[0m\u001b[1;36m1\u001b[0m\u001b[1;33m]\u001b[0m\u001b[1;33m\u001b[0m\u001b[1;33m\u001b[0m\u001b[0m\n\u001b[0m\u001b[0;32m      8\u001b[0m \u001b[1;33m\u001b[0m\u001b[0m\n\u001b[0;32m      9\u001b[0m \u001b[0mprint\u001b[0m\u001b[1;33m(\u001b[0m\u001b[1;33m*\u001b[0m\u001b[0mslots\u001b[0m\u001b[1;33m.\u001b[0m\u001b[0mitems\u001b[0m\u001b[1;33m(\u001b[0m\u001b[1;33m)\u001b[0m\u001b[1;33m,\u001b[0m \u001b[0msep\u001b[0m\u001b[1;33m=\u001b[0m\u001b[1;34m'\\n'\u001b[0m\u001b[1;33m)\u001b[0m\u001b[1;33m\u001b[0m\u001b[1;33m\u001b[0m\u001b[0m\n",
      "\u001b[1;31mIndexError\u001b[0m: list index out of range"
     ]
    }
   ],
   "source": [
    "# create slot timimg key value pairs\n",
    "slots={}\n",
    "for i in inp:\n",
    "    # slit between slot and timing\n",
    "    slot=i.split(':')\n",
    "    print(slot)\n",
    "    slots[slot[0]]=slot[1]\n",
    "\n",
    "print(*slots.items(), sep='\\n')\n"
   ]
  },
  {
   "cell_type": "code",
   "execution_count": 100,
   "metadata": {},
   "outputs": [
    {
     "output_type": "stream",
     "name": "stdout",
     "text": [
      "{'S1': ['Monday-1.45- 2.45', 'Tuesday 8.45-9.45', 'Wednesday-10.45 - 11.45', 'Saturday 8.45-9.30'], 'S2': ['Wednesday-8.45 – 9.45', 'Thursday10.45 - 11.45', 'Friday-1.45- 2.45', ' Saturday-9.30-10.15'], 'S3': ['Wednesday-1.45- 2.45', 'Thursday-8.45 – 9.45', 'Friday-9.45 - 10.45', 'Saturday-10.15-11.00'], 'S4': ['Tuesday-10.45 - 11.45', 'Thursday-1.45- 2.45', 'Friday-8.45 – 9.45', 'Saturday-11.00-11.45'], 'S5': ['Monday-11.45 - 12.45', 'Tuesday-9.45 -10.45', 'Thursday-2.45- 3.45', 'Saturday-11.45-12.30'], 'S6': ['Monday-8.45-9.45', 'Tuesday-11.45-12.45', 'Wednesday-9.45 – 10.45', 'Saturday-3.00-3.45'], 'S7': ['Wednesday-11.45-12.45', 'Thursday-9.45 -10.45', 'Friday-10.45-11.45', 'Saturday-4.45-5.30'], 'S8': ['Monday-9.45 -10.45', 'Wednesday-2.45-3.45', 'Thursday-11.45-12.45', 'Saturday-1.30-2.15'], 'S9': ['Monday-10.45-11.45', 'Tuesday1.45-2.45', 'Friday-11.45-12.45', 'Saturday2.15-3.00'], 'F1': ['11.45  - 1.45  (Tuesday)', ' 11.45  -12.45  (Thursday)'], 'F2': ['3.45 - 5.45  (Monday)', ' 4.45-5.45  (Tuesday)'], 'SM1': ['Tuesday-4.45-5.45'], 'SM2': ['Thursday-4.45-5.45'], 'V1': ['Wednesday 2.45 to 3.45'], 'L1': ['Monday-8.45-10.45'], 'L4': ['Thursday 8.45-10.45'], 'L7': ['Thursday 10.45-12.45']}\n"
     ]
    }
   ],
   "source": [
    "# splitting timings based days\n",
    "for x in slots:\n",
    "    slots[x]=slots[x].split(',')\n",
    "\n",
    "print(slots)"
   ]
  },
  {
   "source": [
    "# create time slot object\n",
    "import re\n",
    "str = re.compile(r'[a-z,A-Z]+')\n",
    "tme = re.compile(r'\\d+.\\d+')\n",
    "for x in slots:\n",
    "    timeSlots=[]\n",
    "    for y in slots[x]:\n",
    "        # print(str.search(y).group())\n",
    "        # print(tme.findall(y))\n",
    "        # print(y)\n",
    "        timeSlot={}\n",
    "        timeSlot['day']=str.search(y).group()\n",
    "        start=int(tme.findall(y)[0].split('.')[0])+int(tme.findall(y)[0].split('.')[1])/60\n",
    "        # convert to 24hr\n",
    "        if start<7:\n",
    "            start+=12\n",
    "        print(start)\n",
    "        end=int(tme.findall(y)[1].split('.')[0])+int(tme.findall(y)[1].split('.')[1])/60\n",
    "        # convert to 24hr\n",
    "        if end<7:\n",
    "            end+=12\n",
    "        print(end)\n",
    "        timeSlot['start']=start\n",
    "        timeSlot['end']=end\n",
    "        timeSlots.append(timeSlot)\n",
    "    slots[x]=timeSlots\n",
    "\n",
    "\n",
    "    \n",
    "\n"
   ],
   "cell_type": "code",
   "metadata": {},
   "execution_count": 101,
   "outputs": [
    {
     "output_type": "stream",
     "name": "stdout",
     "text": [
      "13.75\n",
      "14.75\n",
      "8.75\n",
      "9.75\n",
      "10.75\n",
      "11.75\n",
      "8.75\n",
      "9.5\n",
      "8.75\n",
      "9.75\n",
      "10.75\n",
      "11.75\n",
      "13.75\n",
      "14.75\n",
      "9.5\n",
      "10.25\n",
      "13.75\n",
      "14.75\n",
      "8.75\n",
      "9.75\n",
      "9.75\n",
      "10.75\n",
      "10.25\n",
      "11.0\n",
      "10.75\n",
      "11.75\n",
      "13.75\n",
      "14.75\n",
      "8.75\n",
      "9.75\n",
      "11.0\n",
      "11.75\n",
      "11.75\n",
      "12.75\n",
      "9.75\n",
      "10.75\n",
      "14.75\n",
      "15.75\n",
      "11.75\n",
      "12.5\n",
      "8.75\n",
      "9.75\n",
      "11.75\n",
      "12.75\n",
      "9.75\n",
      "10.75\n",
      "15.0\n",
      "15.75\n",
      "11.75\n",
      "12.75\n",
      "9.75\n",
      "10.75\n",
      "10.75\n",
      "11.75\n",
      "16.75\n",
      "17.5\n",
      "9.75\n",
      "10.75\n",
      "14.75\n",
      "15.75\n",
      "11.75\n",
      "12.75\n",
      "13.5\n",
      "14.25\n",
      "10.75\n",
      "11.75\n",
      "13.75\n",
      "14.75\n",
      "11.75\n",
      "12.75\n",
      "14.25\n",
      "15.0\n",
      "11.75\n",
      "13.75\n",
      "11.75\n",
      "12.75\n",
      "15.75\n",
      "17.75\n",
      "16.75\n",
      "17.75\n",
      "16.75\n",
      "17.75\n",
      "16.75\n",
      "17.75\n",
      "14.75\n",
      "15.75\n",
      "8.75\n",
      "10.75\n",
      "8.75\n",
      "10.75\n",
      "10.75\n",
      "12.75\n"
     ]
    }
   ]
  },
  {
   "cell_type": "code",
   "execution_count": 102,
   "metadata": {},
   "outputs": [
    {
     "output_type": "stream",
     "name": "stdout",
     "text": [
      "('S1', [{'day': 'Monday', 'start': 13.75, 'end': 14.75}, {'day': 'Tuesday', 'start': 8.75, 'end': 9.75}, {'day': 'Wednesday', 'start': 10.75, 'end': 11.75}, {'day': 'Saturday', 'start': 8.75, 'end': 9.5}])\n('S2', [{'day': 'Wednesday', 'start': 8.75, 'end': 9.75}, {'day': 'Thursday', 'start': 10.75, 'end': 11.75}, {'day': 'Friday', 'start': 13.75, 'end': 14.75}, {'day': 'Saturday', 'start': 9.5, 'end': 10.25}])\n('S3', [{'day': 'Wednesday', 'start': 13.75, 'end': 14.75}, {'day': 'Thursday', 'start': 8.75, 'end': 9.75}, {'day': 'Friday', 'start': 9.75, 'end': 10.75}, {'day': 'Saturday', 'start': 10.25, 'end': 11.0}])\n('S4', [{'day': 'Tuesday', 'start': 10.75, 'end': 11.75}, {'day': 'Thursday', 'start': 13.75, 'end': 14.75}, {'day': 'Friday', 'start': 8.75, 'end': 9.75}, {'day': 'Saturday', 'start': 11.0, 'end': 11.75}])\n('S5', [{'day': 'Monday', 'start': 11.75, 'end': 12.75}, {'day': 'Tuesday', 'start': 9.75, 'end': 10.75}, {'day': 'Thursday', 'start': 14.75, 'end': 15.75}, {'day': 'Saturday', 'start': 11.75, 'end': 12.5}])\n('S6', [{'day': 'Monday', 'start': 8.75, 'end': 9.75}, {'day': 'Tuesday', 'start': 11.75, 'end': 12.75}, {'day': 'Wednesday', 'start': 9.75, 'end': 10.75}, {'day': 'Saturday', 'start': 15.0, 'end': 15.75}])\n('S7', [{'day': 'Wednesday', 'start': 11.75, 'end': 12.75}, {'day': 'Thursday', 'start': 9.75, 'end': 10.75}, {'day': 'Friday', 'start': 10.75, 'end': 11.75}, {'day': 'Saturday', 'start': 16.75, 'end': 17.5}])\n('S8', [{'day': 'Monday', 'start': 9.75, 'end': 10.75}, {'day': 'Wednesday', 'start': 14.75, 'end': 15.75}, {'day': 'Thursday', 'start': 11.75, 'end': 12.75}, {'day': 'Saturday', 'start': 13.5, 'end': 14.25}])\n('S9', [{'day': 'Monday', 'start': 10.75, 'end': 11.75}, {'day': 'Tuesday', 'start': 13.75, 'end': 14.75}, {'day': 'Friday', 'start': 11.75, 'end': 12.75}, {'day': 'Saturday', 'start': 14.25, 'end': 15.0}])\n('F1', [{'day': 'Tuesday', 'start': 11.75, 'end': 13.75}, {'day': 'Thursday', 'start': 11.75, 'end': 12.75}])\n('F2', [{'day': 'Monday', 'start': 15.75, 'end': 17.75}, {'day': 'Tuesday', 'start': 16.75, 'end': 17.75}])\n('SM1', [{'day': 'Tuesday', 'start': 16.75, 'end': 17.75}])\n('SM2', [{'day': 'Thursday', 'start': 16.75, 'end': 17.75}])\n('V1', [{'day': 'Wednesday', 'start': 14.75, 'end': 15.75}])\n('L1', [{'day': 'Monday', 'start': 8.75, 'end': 10.75}])\n('L4', [{'day': 'Thursday', 'start': 8.75, 'end': 10.75}])\n('L7', [{'day': 'Thursday', 'start': 10.75, 'end': 12.75}])\n"
     ]
    }
   ],
   "source": [
    "print(*slots.items(), sep='\\n')"
   ]
  },
  {
   "cell_type": "code",
   "execution_count": 103,
   "metadata": {},
   "outputs": [
    {
     "output_type": "stream",
     "name": "stdout",
     "text": [
      "{\"S1\": [{\"day\": \"Monday\", \"start\": 13.75, \"end\": 14.75}, {\"day\": \"Tuesday\", \"start\": 8.75, \"end\": 9.75}, {\"day\": \"Wednesday\", \"start\": 10.75, \"end\": 11.75}, {\"day\": \"Saturday\", \"start\": 8.75, \"end\": 9.5}], \"S2\": [{\"day\": \"Wednesday\", \"start\": 8.75, \"end\": 9.75}, {\"day\": \"Thursday\", \"start\": 10.75, \"end\": 11.75}, {\"day\": \"Friday\", \"start\": 13.75, \"end\": 14.75}, {\"day\": \"Saturday\", \"start\": 9.5, \"end\": 10.25}], \"S3\": [{\"day\": \"Wednesday\", \"start\": 13.75, \"end\": 14.75}, {\"day\": \"Thursday\", \"start\": 8.75, \"end\": 9.75}, {\"day\": \"Friday\", \"start\": 9.75, \"end\": 10.75}, {\"day\": \"Saturday\", \"start\": 10.25, \"end\": 11.0}], \"S4\": [{\"day\": \"Tuesday\", \"start\": 10.75, \"end\": 11.75}, {\"day\": \"Thursday\", \"start\": 13.75, \"end\": 14.75}, {\"day\": \"Friday\", \"start\": 8.75, \"end\": 9.75}, {\"day\": \"Saturday\", \"start\": 11.0, \"end\": 11.75}], \"S5\": [{\"day\": \"Monday\", \"start\": 11.75, \"end\": 12.75}, {\"day\": \"Tuesday\", \"start\": 9.75, \"end\": 10.75}, {\"day\": \"Thursday\", \"start\": 14.75, \"end\": 15.75}, {\"day\": \"Saturday\", \"start\": 11.75, \"end\": 12.5}], \"S6\": [{\"day\": \"Monday\", \"start\": 8.75, \"end\": 9.75}, {\"day\": \"Tuesday\", \"start\": 11.75, \"end\": 12.75}, {\"day\": \"Wednesday\", \"start\": 9.75, \"end\": 10.75}, {\"day\": \"Saturday\", \"start\": 15.0, \"end\": 15.75}], \"S7\": [{\"day\": \"Wednesday\", \"start\": 11.75, \"end\": 12.75}, {\"day\": \"Thursday\", \"start\": 9.75, \"end\": 10.75}, {\"day\": \"Friday\", \"start\": 10.75, \"end\": 11.75}, {\"day\": \"Saturday\", \"start\": 16.75, \"end\": 17.5}], \"S8\": [{\"day\": \"Monday\", \"start\": 9.75, \"end\": 10.75}, {\"day\": \"Wednesday\", \"start\": 14.75, \"end\": 15.75}, {\"day\": \"Thursday\", \"start\": 11.75, \"end\": 12.75}, {\"day\": \"Saturday\", \"start\": 13.5, \"end\": 14.25}], \"S9\": [{\"day\": \"Monday\", \"start\": 10.75, \"end\": 11.75}, {\"day\": \"Tuesday\", \"start\": 13.75, \"end\": 14.75}, {\"day\": \"Friday\", \"start\": 11.75, \"end\": 12.75}, {\"day\": \"Saturday\", \"start\": 14.25, \"end\": 15.0}], \"F1\": [{\"day\": \"Tuesday\", \"start\": 11.75, \"end\": 13.75}, {\"day\": \"Thursday\", \"start\": 11.75, \"end\": 12.75}], \"F2\": [{\"day\": \"Monday\", \"start\": 15.75, \"end\": 17.75}, {\"day\": \"Tuesday\", \"start\": 16.75, \"end\": 17.75}], \"SM1\": [{\"day\": \"Tuesday\", \"start\": 16.75, \"end\": 17.75}], \"SM2\": [{\"day\": \"Thursday\", \"start\": 16.75, \"end\": 17.75}], \"V1\": [{\"day\": \"Wednesday\", \"start\": 14.75, \"end\": 15.75}], \"L1\": [{\"day\": \"Monday\", \"start\": 8.75, \"end\": 10.75}], \"L4\": [{\"day\": \"Thursday\", \"start\": 8.75, \"end\": 10.75}], \"L7\": [{\"day\": \"Thursday\", \"start\": 10.75, \"end\": 12.75}]}\n"
     ]
    }
   ],
   "source": [
    "# converting to json object\n",
    "import json\n",
    "\n",
    "# a Python object (dict):\n",
    "x = {\n",
    "  \"name\": \"John\",\n",
    "  \"age\": 30,\n",
    "  \"city\": \"New York\"\n",
    "}\n",
    "\n",
    "# convert into JSON:\n",
    "y = json.dumps(slots)\n",
    "\n",
    "# the result is a JSON string:\n",
    "print(y)"
   ]
  },
  {
   "cell_type": "code",
   "execution_count": 104,
   "metadata": {},
   "outputs": [],
   "source": [
    "# writing the json sile\n",
    "with open('slots.json', 'w') as json_file:\n",
    "  json.dump(slots, json_file,indent=4)\n"
   ]
  },
  {
   "cell_type": "code",
   "execution_count": 105,
   "metadata": {},
   "outputs": [],
   "source": [
    "import json\n",
    "\n",
    "person_dict = {\"name\": \"Bob\",\n",
    "\"languages\": [\"English\", \"Fench\"],\n",
    "\"married\": True,\n",
    "\"age\": 32\n",
    "}\n",
    "\n",
    "with open('person.txt', 'w') as json_file:\n",
    "  json.dump(person_dict, json_file)"
   ]
  },
  {
   "cell_type": "code",
   "execution_count": null,
   "metadata": {},
   "outputs": [],
   "source": []
  }
 ]
}